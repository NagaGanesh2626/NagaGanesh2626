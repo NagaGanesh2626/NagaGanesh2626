{
  "nbformat": 4,
  "nbformat_minor": 0,
  "metadata": {
    "colab": {
      "provenance": [],
      "gpuType": "T4",
      "authorship_tag": "ABX9TyM6/OoYY1uvCGJMerGFGbj5",
      "include_colab_link": true
    },
    "kernelspec": {
      "name": "python3",
      "display_name": "Python 3"
    },
    "language_info": {
      "name": "python"
    },
    "accelerator": "GPU"
  },
  "cells": [
    {
      "cell_type": "markdown",
      "metadata": {
        "id": "view-in-github",
        "colab_type": "text"
      },
      "source": [
        "<a href=\"https://colab.research.google.com/github/NagaGanesh2626/NagaGanesh2626/blob/main/DogBreed.ipynb\" target=\"_parent\"><img src=\"https://colab.research.google.com/assets/colab-badge.svg\" alt=\"Open In Colab\"/></a>"
      ]
    },
    {
      "cell_type": "code",
      "execution_count": null,
      "metadata": {
        "id": "Nk9nOxqi0ZsA"
      },
      "outputs": [],
      "source": []
    },
    {
      "cell_type": "markdown",
      "source": [
        "# End to End Multi-Class Dog Breed Classification\n",
        "\n",
        "## 1.Problem\n",
        " Identifying the dog breed from the image\n",
        "## 2.Data\n",
        "## 3.Evaluation\n",
        "## 4.Features\n",
        "## 5.Model\n",
        "*  Information about the data\n"
      ],
      "metadata": {
        "id": "udGW7mMC3gjf"
      }
    },
    {
      "cell_type": "code",
      "source": [
        "from google.colab import drive\n",
        "drive.mount('/content/drive')"
      ],
      "metadata": {
        "colab": {
          "base_uri": "https://localhost:8080/"
        },
        "id": "O9mEi3Jz0cPu",
        "outputId": "12efdf06-f1f3-43f1-b5d5-60dbb24813a1"
      },
      "execution_count": 2,
      "outputs": [
        {
          "output_type": "stream",
          "name": "stdout",
          "text": [
            "Mounted at /content/drive\n"
          ]
        }
      ]
    },
    {
      "cell_type": "code",
      "source": [
        "# Import Tensorflow into Colab\n",
        "import tensorflow as tf\n",
        "import tensorflow_hub as hub\n",
        "print(tf.__version__)  # Make sure we're using GPU\n",
        "\n",
        "#Check for GPU availability\n",
        "print(\"GPU\" if tf.config.list_physical_devices(\"GPU\") else \"not available\")"
      ],
      "metadata": {
        "colab": {
          "base_uri": "https://localhost:8080/"
        },
        "id": "oVuKq4ME3aNv",
        "outputId": "e64ab646-072e-4e44-9c12-cb2870d52122"
      },
      "execution_count": 1,
      "outputs": [
        {
          "output_type": "stream",
          "name": "stdout",
          "text": [
            "2.15.0\n",
            "GPU\n"
          ]
        }
      ]
    },
    {
      "cell_type": "code",
      "source": [],
      "metadata": {
        "id": "MU_n0vf94653"
      },
      "execution_count": null,
      "outputs": []
    }
  ]
}